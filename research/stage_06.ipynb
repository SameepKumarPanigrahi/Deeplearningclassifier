{
 "cells": [
  {
   "cell_type": "code",
   "execution_count": 1,
   "metadata": {},
   "outputs": [],
   "source": [
    "import os\n",
    "os.chdir(\"../\")"
   ]
  },
  {
   "cell_type": "code",
   "execution_count": 17,
   "metadata": {},
   "outputs": [],
   "source": [
    "from dataclasses import dataclass\n",
    "from pathlib import Path\n",
    "\n",
    "@dataclass(frozen=True)\n",
    "class BestModelSelectorConfig:\n",
    "    existing_model_path: Path\n",
    "    trained_model_path: Path\n",
    "    score_file_path: Path\n",
    "    training_data: Path\n",
    "    params_image_size: list\n",
    "    params_batch_size: int"
   ]
  },
  {
   "cell_type": "code",
   "execution_count": 21,
   "metadata": {},
   "outputs": [],
   "source": [
    "from deepClassifier.constants import *\n",
    "from deepClassifier.utils import *\n",
    "class ConfigurationManager:\n",
    "    def __init__(\n",
    "        self, config_filepath=CONFIG_FILE_PATH, params_filepath=PARAMS_FILE_PATH\n",
    "    ):\n",
    "        self.config = read_yaml(config_filepath)\n",
    "        self.params = read_yaml(params_filepath)\n",
    "        create_directories([self.config.artifacts_root])\n",
    "    \n",
    "    def get_best_model_config(self)->BestModelSelectorConfig:\n",
    "        best_model_selector = BestModelSelectorConfig(\n",
    "            existing_model_path=self.config.model_selector.existing_model_path,\n",
    "            trained_model_path=self.config.model_selector.trained_model_path,\n",
    "            score_file_path=Path(self.config.model_selector.score_file_path),\n",
    "            training_data=Path(os.path.join(self.config.data_ingestion.unzip_dir, \"PetImages\")),\n",
    "            params_image_size=self.params.IMAGE_SIZE,\n",
    "            params_batch_size=self.params.BATCH_SIZE\n",
    "        )\n",
    "        return best_model_selector     "
   ]
  },
  {
   "cell_type": "code",
   "execution_count": 27,
   "metadata": {},
   "outputs": [],
   "source": [
    "import tensorflow as tf\n",
    "import shutil\n",
    "class BestModelSelector:\n",
    "    def __init__(self, config: BestModelSelectorConfig):\n",
    "        self.config = config\n",
    "        \n",
    "    def _valid_generator(self):\n",
    "        datagenerator_kwargs = dict(\n",
    "            rescale = 1./255,\n",
    "            validation_split = 0.30\n",
    "        ) \n",
    "        \n",
    "        dataflow_kwargs = dict(\n",
    "            target_size = self.config.params_image_size[:-1],\n",
    "            batch_size = self.config.params_batch_size,\n",
    "            interpolation = \"bilinear\"\n",
    "        )\n",
    "        valid_datagenarator = tf.keras.preprocessing.image.ImageDataGenerator(\n",
    "            **datagenerator_kwargs\n",
    "        )\n",
    "        self.valid_generator = valid_datagenarator.flow_from_directory(\n",
    "            directory=self.config.training_data,\n",
    "            subset=\"validation\",\n",
    "            shuffle=False,\n",
    "            **dataflow_kwargs\n",
    "        )\n",
    "        \n",
    "    @staticmethod\n",
    "    def load_model(path:Path) -> tf.keras.Model:\n",
    "        return tf.keras.models.load_model(path)\n",
    "    \n",
    "    def evaluation(self):\n",
    "        self.exisitng_model_score = None\n",
    "        if(os.path.exists(self.config.existing_model_path)):\n",
    "            self.model = self.load_model(self.config.existing_model_path)\n",
    "            self._valid_generator()\n",
    "            self.score = self.model.evaluate(self.valid_generator)\n",
    "            scores = {\"loss\": self.score, \"accuracy\": self.score[1]}\n",
    "            self.exisitng_model_score = ConfigBox(scores)\n",
    "        self.new_model_score = load_json(self.config.score_file_path)\n",
    "        \n",
    "    def select_best_model(self):\n",
    "        #newly_trained_model_directory = os.path.dirname(self.config.trained_model_path)\n",
    "        final_destination = os.path.dirname(self.config.existing_model_path)\n",
    "        if (self.exisitng_model_score == None):\n",
    "            shutil.copy(self.config.trained_model_path, final_destination)\n",
    "        else:\n",
    "            if(self.new_model_score.accuracy > self.exisitng_model_score.accuracy):\n",
    "                os.remove(self.config.existing_model_path)\n",
    "                shutil.copy(self.config.trained_model_path, final_destination)\n",
    "            "
   ]
  },
  {
   "cell_type": "code",
   "execution_count": 28,
   "metadata": {},
   "outputs": [
    {
     "name": "stdout",
     "output_type": "stream",
     "text": [
      "Found 7498 images belonging to 2 classes.\n",
      "469/469 [==============================] - 1452s 3s/step - loss: 3.7972 - accuracy: 0.7635\n"
     ]
    }
   ],
   "source": [
    "try:\n",
    "    config = ConfigurationManager()\n",
    "    model_config = config.get_best_model_config()\n",
    "    selector = BestModelSelector(model_config)\n",
    "    selector.evaluation()\n",
    "    selector.select_best_model()\n",
    "    \n",
    "except Exception as e:\n",
    "   raise e"
   ]
  },
  {
   "cell_type": "code",
   "execution_count": null,
   "metadata": {},
   "outputs": [],
   "source": []
  }
 ],
 "metadata": {
  "kernelspec": {
   "display_name": "Python 3.8.13",
   "language": "python",
   "name": "python3"
  },
  "language_info": {
   "codemirror_mode": {
    "name": "ipython",
    "version": 3
   },
   "file_extension": ".py",
   "mimetype": "text/x-python",
   "name": "python",
   "nbconvert_exporter": "python",
   "pygments_lexer": "ipython3",
   "version": "3.8.13"
  },
  "orig_nbformat": 4,
  "vscode": {
   "interpreter": {
    "hash": "ac23809bb0213b763d0a47ceadbeb0bcfa353287dbc43b2c0da46e16abd10660"
   }
  }
 },
 "nbformat": 4,
 "nbformat_minor": 2
}
